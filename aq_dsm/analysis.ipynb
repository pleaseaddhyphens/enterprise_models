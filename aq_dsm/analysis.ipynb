{
 "cells": [
  {
   "cell_type": "code",
   "execution_count": 2,
   "id": "cad7b52c",
   "metadata": {},
   "outputs": [],
   "source": [
    "from utils import create_prompt_files, run_full_analysis, to_the_forms, read_numbered_txt_files, process_all_change_requests, calculate_alignment_scores, to_the_calc, extract_relevacy, calculate_novelty_scores"
   ]
  },
  {
   "cell_type": "code",
   "execution_count": 3,
   "id": "51645061",
   "metadata": {},
   "outputs": [],
   "source": [
    "import os\n",
    "import pandas as pd\n",
    "model_path = r\"aq_dsm_to_txt.txt\"\n",
    "change_requests_path = r\"change_requests.txt\"\n",
    "api_key = os.getenv(\"MISTRAL_API_KEY\")\n",
    "agent_id = \"ag:ac256ded:20250525:impact-research:a7aac9eb\""
   ]
  },
  {
   "cell_type": "code",
   "execution_count": null,
   "id": "67d59059",
   "metadata": {},
   "outputs": [],
   "source": [
    "# df= run_full_analysis(model_path, change_requests_path,1,3,5,api_key,agent_id)\n",
    "# to_the_forms(df, change_requests_path)"
   ]
  },
  {
   "cell_type": "code",
   "execution_count": 6,
   "id": "dc60f55a",
   "metadata": {},
   "outputs": [
    {
     "name": "stdout",
     "output_type": "stream",
     "text": [
      "Created prompt file: to-the-chat\\1.txt\n",
      "Created prompt file: to-the-chat\\2.txt\n",
      "Created prompt file: to-the-chat\\3.txt\n",
      "Created prompt file: to-the-chat\\4.txt\n",
      "Created prompt file: to-the-chat\\5.txt\n",
      "Created prompt file: to-the-chat\\6.txt\n",
      "Created prompt file: to-the-chat\\7.txt\n",
      "Created prompt file: to-the-chat\\8.txt\n"
     ]
    }
   ],
   "source": [
    "create_prompt_files(change_requests_path, model_path, output_folder='to-the-chat')"
   ]
  },
  {
   "cell_type": "code",
   "execution_count": 20,
   "id": "1d82de32",
   "metadata": {},
   "outputs": [
    {
     "name": "stdout",
     "output_type": "stream",
     "text": [
      "Processing request 1/8...\n",
      "Processing request 2/8...\n",
      "Processing request 3/8...\n",
      "Processing request 4/8...\n",
      "Processing request 5/8...\n",
      "Processing request 6/8...\n",
      "Processing request 7/8...\n",
      "Processing request 8/8...\n"
     ]
    }
   ],
   "source": [
    "responses = read_numbered_txt_files(\"to-the-chat\")\n",
    "df = process_all_change_requests(model_path, change_requests_path, 1, manual_responses=responses)\n",
    "to_the_calc(df)\n",
    "to_the_forms(df,change_requests_path)"
   ]
  },
  {
   "cell_type": "code",
   "execution_count": 39,
   "id": "df7518e0",
   "metadata": {},
   "outputs": [
    {
     "data": {
      "text/html": [
       "<div>\n",
       "<style scoped>\n",
       "    .dataframe tbody tr th:only-of-type {\n",
       "        vertical-align: middle;\n",
       "    }\n",
       "\n",
       "    .dataframe tbody tr th {\n",
       "        vertical-align: top;\n",
       "    }\n",
       "\n",
       "    .dataframe thead th {\n",
       "        text-align: right;\n",
       "    }\n",
       "</style>\n",
       "<table border=\"1\" class=\"dataframe\">\n",
       "  <thead>\n",
       "    <tr style=\"text-align: right;\">\n",
       "      <th></th>\n",
       "      <th>Component</th>\n",
       "      <th>Change</th>\n",
       "    </tr>\n",
       "  </thead>\n",
       "  <tbody>\n",
       "    <tr>\n",
       "      <th>0</th>\n",
       "      <td>Detection algorithm</td>\n",
       "      <td>1</td>\n",
       "    </tr>\n",
       "    <tr>\n",
       "      <th>1</th>\n",
       "      <td>Classification algorithm</td>\n",
       "      <td>1</td>\n",
       "    </tr>\n",
       "    <tr>\n",
       "      <th>2</th>\n",
       "      <td>Belt sub-system</td>\n",
       "      <td>2</td>\n",
       "    </tr>\n",
       "    <tr>\n",
       "      <th>3</th>\n",
       "      <td>Image processing server</td>\n",
       "      <td>2</td>\n",
       "    </tr>\n",
       "    <tr>\n",
       "      <th>4</th>\n",
       "      <td>Detection algorithm</td>\n",
       "      <td>3</td>\n",
       "    </tr>\n",
       "    <tr>\n",
       "      <th>5</th>\n",
       "      <td>Classification algorithm</td>\n",
       "      <td>3</td>\n",
       "    </tr>\n",
       "    <tr>\n",
       "      <th>6</th>\n",
       "      <td>Power sub-system</td>\n",
       "      <td>4</td>\n",
       "    </tr>\n",
       "    <tr>\n",
       "      <th>7</th>\n",
       "      <td>Camera module</td>\n",
       "      <td>5</td>\n",
       "    </tr>\n",
       "    <tr>\n",
       "      <th>8</th>\n",
       "      <td>Belt sub-system</td>\n",
       "      <td>6</td>\n",
       "    </tr>\n",
       "    <tr>\n",
       "      <th>9</th>\n",
       "      <td>Structure</td>\n",
       "      <td>6</td>\n",
       "    </tr>\n",
       "    <tr>\n",
       "      <th>10</th>\n",
       "      <td>Power sub-system</td>\n",
       "      <td>6</td>\n",
       "    </tr>\n",
       "    <tr>\n",
       "      <th>11</th>\n",
       "      <td>Structure</td>\n",
       "      <td>7</td>\n",
       "    </tr>\n",
       "    <tr>\n",
       "      <th>12</th>\n",
       "      <td>Power sub-system</td>\n",
       "      <td>7</td>\n",
       "    </tr>\n",
       "    <tr>\n",
       "      <th>13</th>\n",
       "      <td>Microcomputer</td>\n",
       "      <td>7</td>\n",
       "    </tr>\n",
       "    <tr>\n",
       "      <th>14</th>\n",
       "      <td>Image processing server</td>\n",
       "      <td>7</td>\n",
       "    </tr>\n",
       "    <tr>\n",
       "      <th>15</th>\n",
       "      <td>Lighting module</td>\n",
       "      <td>7</td>\n",
       "    </tr>\n",
       "    <tr>\n",
       "      <th>16</th>\n",
       "      <td>Control panel</td>\n",
       "      <td>8</td>\n",
       "    </tr>\n",
       "  </tbody>\n",
       "</table>\n",
       "</div>"
      ],
      "text/plain": [
       "                   Component  Change\n",
       "0        Detection algorithm       1\n",
       "1   Classification algorithm       1\n",
       "2            Belt sub-system       2\n",
       "3    Image processing server       2\n",
       "4        Detection algorithm       3\n",
       "5   Classification algorithm       3\n",
       "6           Power sub-system       4\n",
       "7              Camera module       5\n",
       "8            Belt sub-system       6\n",
       "9                  Structure       6\n",
       "10          Power sub-system       6\n",
       "11                 Structure       7\n",
       "12          Power sub-system       7\n",
       "13             Microcomputer       7\n",
       "14   Image processing server       7\n",
       "15           Lighting module       7\n",
       "16             Control panel       8"
      ]
     },
     "execution_count": 39,
     "metadata": {},
     "output_type": "execute_result"
    }
   ],
   "source": [
    "#df1 - LLMs response, df2 - human responce\n",
    "df1 = pd.read_csv(r'outputs\\to-the-calc.csv')\n",
    "df2 = pd.read_csv(r'team_data\\valya.csv')\n",
    "df2"
   ]
  },
  {
   "cell_type": "code",
   "execution_count": 41,
   "id": "e53952c2",
   "metadata": {},
   "outputs": [
    {
     "name": "stdout",
     "output_type": "stream",
     "text": [
      "[1.0, 0.5, 1.0, 1.0, 1.0, 0.3333333333333333, 0.4, 0.0] avg_score: 0.6541666666666667\n"
     ]
    }
   ],
   "source": [
    "# Alignment for Nastya\n",
    "scores, avg_score = calculate_alignment_scores(change_requests_path,df1, df2)\n",
    "print(scores,\"avg_score:\", avg_score)"
   ]
  },
  {
   "cell_type": "code",
   "execution_count": 42,
   "id": "9684c990",
   "metadata": {},
   "outputs": [],
   "source": [
    "df_r = extract_relevacy(r'team_data/valya_survey.csv')"
   ]
  },
  {
   "cell_type": "code",
   "execution_count": 47,
   "id": "576a0063",
   "metadata": {},
   "outputs": [
    {
     "name": "stdout",
     "output_type": "stream",
     "text": [
      "Relevacy: 0.8888888888888888\n"
     ]
    }
   ],
   "source": [
    "df1['Relevant'] = df_r['Relevant']\n",
    "relevacy = len(df1[df1[\"Relevant\"] == \"Yes\"])/len(df1)\n",
    "print(\"Relevacy:\", relevacy)"
   ]
  },
  {
   "cell_type": "code",
   "execution_count": 48,
   "id": "0f608ee2",
   "metadata": {},
   "outputs": [
    {
     "name": "stdout",
     "output_type": "stream",
     "text": [
      "Novelty [0.0, 0.6666666666666666, 0.0, 0.6666666666666666, 0.0, 0.0, 0.3333333333333333, 1.0] avg: 0.3333333333333333\n"
     ]
    }
   ],
   "source": [
    "# Example usage\n",
    "novelty_scores, avg = calculate_novelty_scores(df1, df2)\n",
    "print(\"Novelty\", novelty_scores, \"avg:\", avg )"
   ]
  }
 ],
 "metadata": {
  "kernelspec": {
   "display_name": ".venv",
   "language": "python",
   "name": "python3"
  },
  "language_info": {
   "codemirror_mode": {
    "name": "ipython",
    "version": 3
   },
   "file_extension": ".py",
   "mimetype": "text/x-python",
   "name": "python",
   "nbconvert_exporter": "python",
   "pygments_lexer": "ipython3",
   "version": "3.12.0"
  }
 },
 "nbformat": 4,
 "nbformat_minor": 5
}
