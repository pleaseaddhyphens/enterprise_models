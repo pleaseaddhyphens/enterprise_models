{
 "cells": [
  {
   "cell_type": "code",
   "execution_count": 2,
   "id": "cad7b52c",
   "metadata": {},
   "outputs": [],
   "source": [
    "from utils import create_prompt_files, run_full_analysis, to_the_forms, read_numbered_txt_files, process_all_change_requests, calculate_alignment_scores, calculate_novelty_scores"
   ]
  },
  {
   "cell_type": "code",
   "execution_count": 31,
   "id": "51645061",
   "metadata": {},
   "outputs": [],
   "source": [
    "import os\n",
    "import pandas as pd\n",
    "model_path = r\"export.json\"\n",
    "change_requests_path = r\"change_requests.txt\"\n",
    "api_key = os.getenv(\"MISTRAL_API_KEY\")\n",
    "agent_id = \"ag:ac256ded:20250525:impact-research:a7aac9eb\"\n",
    "project_description = \"The team is developing wearable emotion recognition technology to self awareness, remote mental health and marketing research. The specific product of the technology is the band that analyze user's emotional state.\"\n"
   ]
  },
  {
   "cell_type": "code",
   "execution_count": null,
   "id": "67d59059",
   "metadata": {},
   "outputs": [],
   "source": [
    "df= run_full_analysis(model_path, change_requests_path,project_description,1,3,5,api_key,agent_id)\n",
    "df.to_csv(\"outputs/to-the-calc.csv\", index = False)"
   ]
  },
  {
   "cell_type": "code",
   "execution_count": 32,
   "id": "dc60f55a",
   "metadata": {},
   "outputs": [
    {
     "name": "stdout",
     "output_type": "stream",
     "text": [
      "Created prompt file: to-the-chat\\1.txt\n",
      "Created prompt file: to-the-chat\\2.txt\n",
      "Created prompt file: to-the-chat\\3.txt\n",
      "Created prompt file: to-the-chat\\4.txt\n",
      "Created prompt file: to-the-chat\\5.txt\n",
      "Created prompt file: to-the-chat\\6.txt\n",
      "Created prompt file: to-the-chat\\7.txt\n",
      "Created prompt file: to-the-chat\\8.txt\n",
      "Created prompt file: to-the-chat\\9.txt\n"
     ]
    }
   ],
   "source": [
    "create_prompt_files(change_requests_path, model_path, project_description)"
   ]
  },
  {
   "cell_type": "code",
   "execution_count": null,
   "id": "aa190c4b",
   "metadata": {},
   "outputs": [],
   "source": []
  },
  {
   "cell_type": "code",
   "execution_count": 33,
   "id": "1d82de32",
   "metadata": {},
   "outputs": [
    {
     "name": "stdout",
     "output_type": "stream",
     "text": [
      "Processing request 1/9...\n",
      "Processing request 2/9...\n",
      "Processing request 3/9...\n",
      "Processing request 4/9...\n",
      "Processing request 5/9...\n",
      "Processing request 6/9...\n",
      "Processing request 7/9...\n",
      "Processing request 8/9...\n",
      "Processing request 9/9...\n"
     ]
    }
   ],
   "source": [
    "responses = read_numbered_txt_files(\"to-the-chat\")\n",
    "df = process_all_change_requests(model_path, change_requests_path, 1, project_description,  manual_responses=responses)\n",
    "df.to_csv(\"outputs/to-the-calc.csv\", index = False)"
   ]
  },
  {
   "cell_type": "code",
   "execution_count": 35,
   "id": "df7518e0",
   "metadata": {},
   "outputs": [
    {
     "name": "stdout",
     "output_type": "stream",
     "text": [
      "relevacy: 0.91\n"
     ]
    }
   ],
   "source": [
    "#df1 - LLMs response, df2 - human responce\n",
    "df1 = pd.read_csv(r'outputs\\to-the-calc.csv')\n",
    "df2 = pd.read_csv(r'team_data\\AlexeyM.txt')\n",
    "df1['Relevant'] = \"Yes\"\n",
    "relevacy = 0.91 #adjustment coefficient  \n",
    "print(\"relevacy:\", relevacy)"
   ]
  },
  {
   "cell_type": "code",
   "execution_count": 36,
   "id": "e53952c2",
   "metadata": {},
   "outputs": [
    {
     "name": "stdout",
     "output_type": "stream",
     "text": [
      "avg_score with relevancy adjustment: 0.53\n"
     ]
    }
   ],
   "source": [
    "scores, avg_score = calculate_alignment_scores(change_requests_path,df1, df2)\n",
    "avg_score = avg_score*relevacy\n",
    "print(\"avg_score with relevancy adjustment:\", round(avg_score,2))"
   ]
  },
  {
   "cell_type": "code",
   "execution_count": 21,
   "id": "9684c990",
   "metadata": {},
   "outputs": [],
   "source": [
    "# df_n = pd.read_csv(filepath_or_buffer=r'team_data\\nastya_survey.csv',sep = '\\t', header = None)\n",
    "# df_n = df_n.drop(df_n.columns[[0,1]], axis=1).T  # Drop columns at positions 0, 1\n",
    "# df_n.columns = ['Relevant']\n",
    "# df_n.index = range(0, len(df_n))"
   ]
  },
  {
   "cell_type": "code",
   "execution_count": 37,
   "id": "0f608ee2",
   "metadata": {},
   "outputs": [
    {
     "name": "stdout",
     "output_type": "stream",
     "text": [
      "Novelty with relevancy adjustment 0.39\n"
     ]
    }
   ],
   "source": [
    "novelty_scores, nov = calculate_novelty_scores(df1, df2)\n",
    "nov = nov*relevacy \n",
    "print(\"Novelty with relevancy adjustment\", round(nov,2) )"
   ]
  }
 ],
 "metadata": {
  "kernelspec": {
   "display_name": ".venv",
   "language": "python",
   "name": "python3"
  },
  "language_info": {
   "codemirror_mode": {
    "name": "ipython",
    "version": 3
   },
   "file_extension": ".py",
   "mimetype": "text/x-python",
   "name": "python",
   "nbconvert_exporter": "python",
   "pygments_lexer": "ipython3",
   "version": "3.12.0"
  }
 },
 "nbformat": 4,
 "nbformat_minor": 5
}
