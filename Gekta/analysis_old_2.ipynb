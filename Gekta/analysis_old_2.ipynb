{
 "cells": [
  {
   "cell_type": "code",
   "execution_count": 1,
   "id": "0d2167b4",
   "metadata": {},
   "outputs": [],
   "source": [
    "from utils import run_full_analysis, create_prompt_files, read_numbered_txt_files, process_all_change_requests\n",
    "import os"
   ]
  },
  {
   "cell_type": "code",
   "execution_count": 2,
   "id": "be9cdf1b",
   "metadata": {},
   "outputs": [],
   "source": [
    "model_path = r\"export.json\"\n",
    "change_requests_path = r\"change_requests.txt\"\n",
    "api_key = os.getenv(\"MISTRAL_API_KEY\")\n",
    "agent_id = \"ag:ac256ded:20250525:impact-research:a7aac9eb\"\n",
    "change_requests_path"
   ]
  },
  {
   "cell_type": "code",
   "execution_count": null,
   "id": "29b01713",
   "metadata": {},
   "outputs": [],
   "source": []
  },
  {
   "cell_type": "code",
   "execution_count": null,
   "id": "456dec94",
   "metadata": {},
   "outputs": [],
   "source": [
    "responses = read_numbered_txt_files(\"to-the-chat\")\n",
    "df = process_all_change_requests(model_path, change_requests_path, 1, manual_responses=responses)"
   ]
  },
  {
   "cell_type": "code",
   "execution_count": null,
   "id": "ef89b8ce",
   "metadata": {},
   "outputs": [],
   "source": [
    "df[[\"Component\", \"Change\"]].to_csv(os.path.join(\"outputs\", \"to-the-form.csv\"), index = False)"
   ]
  },
  {
   "cell_type": "code",
   "execution_count": null,
   "id": "ff4d8947",
   "metadata": {},
   "outputs": [],
   "source": [
    "df = run_full_analysis(model_path, change_requests_path, 1, 1, 5, api_key, agent_id)"
   ]
  }
 ],
 "metadata": {
  "kernelspec": {
   "display_name": ".venv",
   "language": "python",
   "name": "python3"
  },
  "language_info": {
   "codemirror_mode": {
    "name": "ipython",
    "version": 3
   },
   "file_extension": ".py",
   "mimetype": "text/x-python",
   "name": "python",
   "nbconvert_exporter": "python",
   "pygments_lexer": "ipython3",
   "version": "3.12.0"
  }
 },
 "nbformat": 4,
 "nbformat_minor": 5
}
