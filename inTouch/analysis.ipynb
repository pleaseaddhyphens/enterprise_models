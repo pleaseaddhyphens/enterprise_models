{
 "cells": [
  {
   "cell_type": "code",
   "execution_count": 1,
   "id": "cad7b52c",
   "metadata": {},
   "outputs": [],
   "source": [
    "from utils import create_prompt_files, read_numbered_txt_files, process_all_change_requests, calculate_alignment_scores, calculate_novelty_scores"
   ]
  },
  {
   "cell_type": "code",
   "execution_count": 2,
   "id": "51645061",
   "metadata": {},
   "outputs": [],
   "source": [
    "import os\n",
    "import pandas as pd\n",
    "model_path = r\"export.json\"\n",
    "change_requests_path = r\"change_requests.txt\"\n",
    "api_key = os.getenv(\"MISTRAL_API_KEY\")\n",
    "agent_id = \"ag:ac256ded:20250525:impact-research:a7aac9eb\""
   ]
  },
  {
   "cell_type": "code",
   "execution_count": null,
   "id": "67d59059",
   "metadata": {},
   "outputs": [],
   "source": [
    "# df= run_full_analysis(model_path, change_requests_path,1,3,8,api_key,agent_id)\n",
    "# to_the_forms(df, change_requests_path)"
   ]
  },
  {
   "cell_type": "code",
   "execution_count": 4,
   "id": "dc60f55a",
   "metadata": {},
   "outputs": [
    {
     "name": "stdout",
     "output_type": "stream",
     "text": [
      "Created prompt file: to-the-chat-2\\1.txt\n",
      "Created prompt file: to-the-chat-2\\2.txt\n",
      "Created prompt file: to-the-chat-2\\3.txt\n",
      "Created prompt file: to-the-chat-2\\4.txt\n",
      "Created prompt file: to-the-chat-2\\5.txt\n",
      "Created prompt file: to-the-chat-2\\6.txt\n",
      "Created prompt file: to-the-chat-2\\7.txt\n",
      "Created prompt file: to-the-chat-2\\8.txt\n",
      "Created prompt file: to-the-chat-2\\9.txt\n"
     ]
    }
   ],
   "source": [
    "create_prompt_files(change_requests_path, model_path, output_folder='to-the-chat-2')"
   ]
  },
  {
   "cell_type": "code",
   "execution_count": null,
   "id": "1d82de32",
   "metadata": {},
   "outputs": [],
   "source": [
    "# responses = read_numbered_txt_files(\"to-the-chat\")\n",
    "# df = process_all_change_requests(model_path, change_requests_path, 1, manual_responses=responses)"
   ]
  },
  {
   "cell_type": "code",
   "execution_count": 3,
   "id": "df7518e0",
   "metadata": {},
   "outputs": [],
   "source": [
    "#df1 - LLMs response, df2 - human responce\n",
    "df1 = pd.read_csv(r'outputs\\to-the-calc.csv')\n",
    "df2 = pd.read_csv(r'team_data\\AlexeyM.txt')"
   ]
  },
  {
   "cell_type": "code",
   "execution_count": 4,
   "id": "e53952c2",
   "metadata": {},
   "outputs": [
    {
     "name": "stdout",
     "output_type": "stream",
     "text": [
      "[0.3333333333333333, 0.2, 0.6666666666666666, 1.0, 0.8, 0.2, 0.1, 0.2857142857142857, 0.25] avg_score: 0.42619047619047623\n"
     ]
    }
   ],
   "source": [
    "# Alignment\n",
    "scores, avg_score = calculate_alignment_scores(change_requests_path,df1, df2)\n",
    "print(scores,\"avg_score:\", avg_score)"
   ]
  },
  {
   "cell_type": "code",
   "execution_count": 5,
   "id": "9684c990",
   "metadata": {},
   "outputs": [],
   "source": [
    "df_n = pd.read_csv(filepath_or_buffer=r'team_data\\nastya_survey.csv',sep = '\\t', header = None)\n",
    "df_n = df_n.drop(df_n.columns[[0,1]], axis=1).T  # Drop columns at positions 0, 1\n",
    "df_n.columns = ['Relevant']\n",
    "df_n.index = range(0, len(df_n))"
   ]
  },
  {
   "cell_type": "code",
   "execution_count": 9,
   "id": "576a0063",
   "metadata": {},
   "outputs": [
    {
     "name": "stdout",
     "output_type": "stream",
     "text": [
      "Relevacy: 0.9473684210526315\n"
     ]
    },
    {
     "data": {
      "text/html": [
       "<div>\n",
       "<style scoped>\n",
       "    .dataframe tbody tr th:only-of-type {\n",
       "        vertical-align: middle;\n",
       "    }\n",
       "\n",
       "    .dataframe tbody tr th {\n",
       "        vertical-align: top;\n",
       "    }\n",
       "\n",
       "    .dataframe thead th {\n",
       "        text-align: right;\n",
       "    }\n",
       "</style>\n",
       "<table border=\"1\" class=\"dataframe\">\n",
       "  <thead>\n",
       "    <tr style=\"text-align: right;\">\n",
       "      <th></th>\n",
       "      <th>Component</th>\n",
       "      <th>Change</th>\n",
       "      <th>Relevant</th>\n",
       "    </tr>\n",
       "  </thead>\n",
       "  <tbody>\n",
       "    <tr>\n",
       "      <th>0</th>\n",
       "      <td>Battery</td>\n",
       "      <td>1</td>\n",
       "      <td>Yes</td>\n",
       "    </tr>\n",
       "    <tr>\n",
       "      <th>1</th>\n",
       "      <td>PMIC</td>\n",
       "      <td>1</td>\n",
       "      <td>Yes</td>\n",
       "    </tr>\n",
       "    <tr>\n",
       "      <th>2</th>\n",
       "      <td>Wireless charger</td>\n",
       "      <td>1</td>\n",
       "      <td>No</td>\n",
       "    </tr>\n",
       "    <tr>\n",
       "      <th>3</th>\n",
       "      <td>PCB</td>\n",
       "      <td>2</td>\n",
       "      <td>Yes</td>\n",
       "    </tr>\n",
       "    <tr>\n",
       "      <th>4</th>\n",
       "      <td>Wireless Charger</td>\n",
       "      <td>3</td>\n",
       "      <td>Yes</td>\n",
       "    </tr>\n",
       "  </tbody>\n",
       "</table>\n",
       "</div>"
      ],
      "text/plain": [
       "          Component  Change Relevant\n",
       "0           Battery       1      Yes\n",
       "1              PMIC       1      Yes\n",
       "2  Wireless charger       1       No\n",
       "3               PCB       2      Yes\n",
       "4  Wireless Charger       3      Yes"
      ]
     },
     "execution_count": 9,
     "metadata": {},
     "output_type": "execute_result"
    }
   ],
   "source": [
    "df1['Relevant'] = df_n['Relevant']\n",
    "relevacy = len(df1[df1[\"Relevant\"] == \"Yes\"])/len(df1)\n",
    "print(\"Relevacy:\", relevacy)\n",
    "df1.head()"
   ]
  },
  {
   "cell_type": "code",
   "execution_count": 12,
   "id": "0f608ee2",
   "metadata": {},
   "outputs": [
    {
     "name": "stdout",
     "output_type": "stream",
     "text": [
      "Novelty [0.0, 0.0, 0.0, 0.0, 0.0, 0.5, 0.0, 0.0, 0.0] avg: 0.05555555555555555\n"
     ]
    }
   ],
   "source": [
    "novelty_scores, avg = calculate_novelty_scores(df1, df2)\n",
    "print(\"Novelty\", novelty_scores, \"avg:\", avg )"
   ]
  }
 ],
 "metadata": {
  "kernelspec": {
   "display_name": ".venv",
   "language": "python",
   "name": "python3"
  },
  "language_info": {
   "codemirror_mode": {
    "name": "ipython",
    "version": 3
   },
   "file_extension": ".py",
   "mimetype": "text/x-python",
   "name": "python",
   "nbconvert_exporter": "python",
   "pygments_lexer": "ipython3",
   "version": "3.12.0"
  }
 },
 "nbformat": 4,
 "nbformat_minor": 5
}
