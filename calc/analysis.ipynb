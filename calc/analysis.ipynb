{
 "cells": [
  {
   "cell_type": "code",
   "execution_count": 28,
   "id": "cad7b52c",
   "metadata": {},
   "outputs": [],
   "source": [
    "from utils import create_prompt_files, run_full_analysis, to_the_forms, read_numbered_txt_files, process_all_change_requests, calculate_alignment_scores, calculate_novelty_scores"
   ]
  },
  {
   "cell_type": "code",
   "execution_count": 29,
   "id": "51645061",
   "metadata": {},
   "outputs": [],
   "source": [
    "import os\n",
    "import pandas as pd\n",
    "model_path = r\"C:\\Users\\Valentin\\Desktop\\data_for_impact_analysis\\data\\inTouch\\export.json\"\n",
    "change_requests_path = r\"C:\\Users\\Valentin\\Desktop\\data_for_impact_analysis\\data\\inTouch\\change_requests.txt\"\n",
    "project_description = \"The team is developing wearable emotion recognition technology to self awareness, remote mental health and marketing research. The specific product of the technology is the band that analyze user's emotional state.\"\n"
   ]
  },
  {
   "cell_type": "code",
   "execution_count": 30,
   "id": "1d82de32",
   "metadata": {},
   "outputs": [],
   "source": [
    "# to_the_forms(df, change_requests_path)"
   ]
  },
  {
   "cell_type": "code",
   "execution_count": 31,
   "id": "df7518e0",
   "metadata": {},
   "outputs": [
    {
     "name": "stdout",
     "output_type": "stream",
     "text": [
      "0.94\n"
     ]
    }
   ],
   "source": [
    "#df1 - LLMs response, df2 - human response\n",
    "df1 = pd.read_csv(r'C:\\Users\\Valentin\\Desktop\\data_for_impact_analysis\\data\\inTouch\\outputs\\llama70b-yandex-1-cycle.csv')\n",
    "df2 = pd.read_csv(r'C:\\Users\\Valentin\\Desktop\\data_for_impact_analysis\\data\\inTouch\\team_data\\ArsenyP.txt')\n",
    "df1['Relevant'] = \"Yes\"\n",
    "relevancy = round((0.95+0.95+0.93)/3,2) #adjustment coefficient  \n",
    "print(relevancy)"
   ]
  },
  {
   "cell_type": "code",
   "execution_count": 32,
   "id": "83745663",
   "metadata": {},
   "outputs": [],
   "source": [
    "# df_n = pd.read_csv(filepath_or_buffer=r'team_data\\ArsenyP_survey.txt',sep = '\\t', header = None)\n",
    "# df_n = df_n.drop(df_n.columns[[0,1]], axis=1).T  # Drop columns at positions 0, 1\n",
    "# df_n.columns = ['Relevant']\n",
    "# relevancy = len(df_n[df_n[\"Relevant\"] == \"Yes\"])/len(df_n)\n",
    "# print(\"Relevancy:\", round(relevancy,2))"
   ]
  },
  {
   "cell_type": "code",
   "execution_count": 33,
   "id": "e53952c2",
   "metadata": {},
   "outputs": [
    {
     "name": "stdout",
     "output_type": "stream",
     "text": [
      "avg_score with relevancy adjustment: 0.43\n"
     ]
    }
   ],
   "source": [
    "scores, avg_score = calculate_alignment_scores(change_requests_path,df1, df2)\n",
    "avg_score = avg_score\n",
    "print(\"avg_score with relevancy adjustment:\", round(avg_score,2))"
   ]
  },
  {
   "cell_type": "code",
   "execution_count": 34,
   "id": "9684c990",
   "metadata": {},
   "outputs": [],
   "source": [
    "# df_n = pd.read_csv(filepath_or_buffer=r'team_data\\nastya_survey.csv',sep = '\\t', header = None)\n",
    "# df_n = df_n.drop(df_n.columns[[0,1]], axis=1).T  # Drop columns at positions 0, 1\n",
    "# df_n.columns = ['Relevant']\n",
    "# df_n.index = range(0, len(df_n))"
   ]
  },
  {
   "cell_type": "code",
   "execution_count": 35,
   "id": "0f608ee2",
   "metadata": {},
   "outputs": [
    {
     "name": "stdout",
     "output_type": "stream",
     "text": [
      "Novelty with relevancy adjustment 0.33\n"
     ]
    }
   ],
   "source": [
    "novelty_scores, nov = calculate_novelty_scores(df1, df2)\n",
    "nov = nov*relevancy \n",
    "print(\"Novelty with relevancy adjustment\", round(nov,2) )"
   ]
  }
 ],
 "metadata": {
  "kernelspec": {
   "display_name": ".venv",
   "language": "python",
   "name": "python3"
  },
  "language_info": {
   "codemirror_mode": {
    "name": "ipython",
    "version": 3
   },
   "file_extension": ".py",
   "mimetype": "text/x-python",
   "name": "python",
   "nbconvert_exporter": "python",
   "pygments_lexer": "ipython3",
   "version": "3.12.0"
  }
 },
 "nbformat": 4,
 "nbformat_minor": 5
}
